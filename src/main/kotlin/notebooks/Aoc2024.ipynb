{
 "cells": [
  {
   "metadata": {},
   "cell_type": "markdown",
   "source": "# Advent of Code 2024"
  },
  {
   "cell_type": "code",
   "metadata": {
    "collapsed": true,
    "ExecuteTime": {
     "end_time": "2024-12-10T23:24:26.788035123Z",
     "start_time": "2024-12-10T23:24:25.952556898Z"
    }
   },
   "source": [
    "@file:DependsOn(\"com.toldoven.aoc:aoc-kotlin-notebook:1.1.2\")\n",
    "// @file:DependsOn(\"file://COMPILED_JAR_ABSOLUTE_PATH\")"
   ],
   "outputs": [],
   "execution_count": 1
  },
  {
   "metadata": {
    "ExecuteTime": {
     "end_time": "2024-12-10T23:24:26.979619431Z",
     "start_time": "2024-12-10T23:24:26.799275726Z"
    }
   },
   "cell_type": "code",
   "source": [
    "import com.toldoven.aoc.notebook.AocClient\n",
    "\n",
    "var aoc = AocClient.fromEnv().interactiveDay(2024, 1)"
   ],
   "outputs": [],
   "execution_count": 2
  },
  {
   "metadata": {
    "ExecuteTime": {
     "end_time": "2024-12-10T23:24:27.116240497Z",
     "start_time": "2024-12-10T23:24:26.992663630Z"
    }
   },
   "cell_type": "code",
   "source": "aoc.viewPartOne()",
   "outputs": [
    {
     "data": {
      "text/html": [
       "<h2>--- Day 1: Historian Hysteria ---</h2>\n",
       "<p>The <em>Chief Historian</em> is always present for the big Christmas sleigh launch, but nobody has seen him in months! Last anyone heard, he was visiting locations that are historically significant to the North Pole; a group of Senior Historians has asked you to accompany them as they check the places they think he was most likely to visit.</p> \n",
       "<p>As each location is checked, they will mark it on their list with a <em class=\"star\">star</em>. They figure the Chief Historian <em>must</em> be in one of the first fifty places they'll look, so in order to save Christmas, you need to help them get <em class=\"star\">fifty stars</em> on their list before Santa takes off on December 25th.</p> \n",
       "<p>Collect stars by solving puzzles. Two puzzles will be made available on each day in the Advent calendar; the second puzzle is unlocked when you complete the first. Each puzzle grants <em class=\"star\">one star</em>. Good luck!</p> \n",
       "<p>You haven't even left yet and the group of Elvish Senior Historians has already hit a problem: their list of locations to check is currently <em>empty</em>. Eventually, someone decides that the best place to check first would be the Chief Historian's office.</p> \n",
       "<p>Upon pouring into the office, everyone confirms that the Chief Historian is indeed nowhere to be found. Instead, the Elves discover an assortment of notes and lists of historically significant locations! This seems to be the planning the Chief Historian was doing before he left. Perhaps these notes can be used to determine which locations to search?</p> \n",
       "<p>Throughout the Chief's office, the historically significant locations are listed not by name but by a unique number called the <em>location ID</em>. To make sure they don't miss anything, The Historians split into two groups, each searching the office and trying to create their own complete list of location IDs.</p> \n",
       "<p>There's just one problem: by holding the two lists up <em>side by side</em> (your puzzle input), it quickly becomes clear that the lists aren't very similar. Maybe you can help The Historians reconcile their lists?</p> \n",
       "<p>For example:</p> \n",
       "<pre><code>3   4\n",
       "4   3\n",
       "2   5\n",
       "1   3\n",
       "3   9\n",
       "3   3\n",
       "</code></pre> \n",
       "<p>Maybe the lists are only off by a small amount! To find out, pair up the numbers and measure how far apart they are. Pair up the <em>smallest number in the left list</em> with the <em>smallest number in the right list</em>, then the <em>second-smallest left number</em> with the <em>second-smallest right number</em>, and so on.</p> \n",
       "<p>Within each pair, figure out <em>how far apart</em> the two numbers are; you'll need to <em>add up all of those distances</em>. For example, if you pair up a <code>3</code> from the left list with a <code>7</code> from the right list, the distance apart is <code>4</code>; if you pair up a <code>9</code> with a <code>3</code>, the distance apart is <code>6</code>.</p> \n",
       "<p>In the example list above, the pairs and distances would be as follows:</p> \n",
       "<ul> \n",
       " <li>The smallest number in the left list is <code>1</code>, and the smallest number in the right list is <code>3</code>. The distance between them is <code><em>2</em></code>.</li> \n",
       " <li>The second-smallest number in the left list is <code>2</code>, and the second-smallest number in the right list is another <code>3</code>. The distance between them is <code><em>1</em></code>.</li> \n",
       " <li>The third-smallest number in both lists is <code>3</code>, so the distance between them is <code><em>0</em></code>.</li> \n",
       " <li>The next numbers to pair up are <code>3</code> and <code>4</code>, a distance of <code><em>1</em></code>.</li> \n",
       " <li>The fifth-smallest numbers in each list are <code>3</code> and <code>5</code>, a distance of <code><em>2</em></code>.</li> \n",
       " <li>Finally, the largest number in the left list is <code>4</code>, while the largest number in the right list is <code>9</code>; these are a distance <code><em>5</em></code> apart.</li> \n",
       "</ul> \n",
       "<p>To find the <em>total distance</em> between the left list and the right list, add up the distances between all of the pairs you found. In the example above, this is <code>2 + 1 + 0 + 1 + 2 + 5</code>, a total distance of <code><em>11</em></code>!</p> \n",
       "<p>Your actual left and right lists contain many location IDs. <em>What is the total distance between your lists?</em></p>"
      ]
     },
     "execution_count": 3,
     "metadata": {},
     "output_type": "execute_result"
    }
   ],
   "execution_count": 3
  },
  {
   "metadata": {
    "ExecuteTime": {
     "end_time": "2024-12-10T23:24:28.406494457Z",
     "start_time": "2024-12-10T23:24:27.155369635Z"
    }
   },
   "cell_type": "code",
   "source": [
    "import aoc2024.Day01\n",
    "\n",
    "aoc.submitPartOne(Day01(aoc.input().lines()).distance())"
   ],
   "outputs": [
    {
     "data": {
      "text/html": [
       "<p>The answer is correct!</p><p>Your answer: 3508942</p><small>You already completed this part.</small>"
      ]
     },
     "execution_count": 4,
     "metadata": {},
     "output_type": "execute_result"
    }
   ],
   "execution_count": 4
  },
  {
   "metadata": {
    "ExecuteTime": {
     "end_time": "2024-12-10T23:24:28.493689828Z",
     "start_time": "2024-12-10T23:24:28.418993287Z"
    }
   },
   "cell_type": "code",
   "source": "aoc.viewPartTwo()",
   "outputs": [
    {
     "data": {
      "text/html": [
       "<h2 id=\"part2\">--- Part Two ---</h2>\n",
       "<p>Your analysis only confirmed what everyone feared: the two lists of location IDs are indeed very different.</p> \n",
       "<p>Or are they?</p> \n",
       "<p>The Historians can't agree on which group made the mistakes <em>or</em> how to read most of the Chief's handwriting, but in the commotion you notice an interesting detail: <span title=\"We were THIS close to summoning the Alot of Location IDs!\">a lot</span> of location IDs appear in both lists! Maybe the other numbers aren't location IDs at all but rather misinterpreted handwriting.</p> \n",
       "<p>This time, you'll need to figure out exactly how often each number from the left list appears in the right list. Calculate a total <em>similarity score</em> by adding up each number in the left list after multiplying it by the number of times that number appears in the right list.</p> \n",
       "<p>Here are the same example lists again:</p> \n",
       "<pre><code>3   4\n",
       "4   3\n",
       "2   5\n",
       "1   3\n",
       "3   9\n",
       "3   3\n",
       "</code></pre> \n",
       "<p>For these example lists, here is the process of finding the similarity score:</p> \n",
       "<ul> \n",
       " <li>The first number in the left list is <code>3</code>. It appears in the right list three times, so the similarity score increases by <code>3 * 3 = <em>9</em></code>.</li> \n",
       " <li>The second number in the left list is <code>4</code>. It appears in the right list once, so the similarity score increases by <code>4 * 1 = <em>4</em></code>.</li> \n",
       " <li>The third number in the left list is <code>2</code>. It does not appear in the right list, so the similarity score does not increase (<code>2 * 0 = 0</code>).</li> \n",
       " <li>The fourth number, <code>1</code>, also does not appear in the right list.</li> \n",
       " <li>The fifth number, <code>3</code>, appears in the right list three times; the similarity score increases by <code><em>9</em></code>.</li> \n",
       " <li>The last number, <code>3</code>, appears in the right list three times; the similarity score again increases by <code><em>9</em></code>.</li> \n",
       "</ul> \n",
       "<p>So, for these example lists, the similarity score at the end of this process is <code><em>31</em></code> (<code>9 + 4 + 0 + 0 + 9 + 9</code>).</p> \n",
       "<p>Once again consider your left and right lists. <em>What is their similarity score?</em></p>"
      ]
     },
     "execution_count": 5,
     "metadata": {},
     "output_type": "execute_result"
    }
   ],
   "execution_count": 5
  },
  {
   "metadata": {
    "ExecuteTime": {
     "end_time": "2024-12-10T23:24:29.002040463Z",
     "start_time": "2024-12-10T23:24:28.503601167Z"
    }
   },
   "cell_type": "code",
   "source": "aoc.submitPartTwo(Day01(aoc.input().lines()).timesValue())",
   "outputs": [
    {
     "data": {
      "text/html": [
       "<p>The answer is correct!</p><p>Your answer: 26593248</p><small>You already completed this part.</small>"
      ]
     },
     "execution_count": 6,
     "metadata": {},
     "output_type": "execute_result"
    }
   ],
   "execution_count": 6
  },
  {
   "metadata": {
    "ExecuteTime": {
     "end_time": "2024-12-10T23:24:29.121769832Z",
     "start_time": "2024-12-10T23:24:29.018467213Z"
    }
   },
   "cell_type": "code",
   "source": "aoc = AocClient.fromEnv().interactiveDay(2024, 2)",
   "outputs": [],
   "execution_count": 7
  },
  {
   "metadata": {
    "ExecuteTime": {
     "end_time": "2024-12-10T23:24:29.251657297Z",
     "start_time": "2024-12-10T23:24:29.151032258Z"
    }
   },
   "cell_type": "code",
   "source": "aoc.viewPartOne()",
   "outputs": [
    {
     "data": {
      "text/html": [
       "<h2>--- Day 2: Red-Nosed Reports ---</h2>\n",
       "<p>Fortunately, the first location The Historians want to search isn't a long walk from the Chief Historian's office.</p> \n",
       "<p>While the <a href=\"/2015/day/19\">Red-Nosed Reindeer nuclear fusion/fission plant</a> appears to contain no sign of the Chief Historian, the engineers there run up to you as soon as they see you. Apparently, they <em>still</em> talk about the time Rudolph was saved through molecular synthesis from a single electron.</p> \n",
       "<p>They're quick to add that - since you're already here - they'd really appreciate your help analyzing some unusual data from the Red-Nosed reactor. You turn to check if The Historians are waiting for you, but they seem to have already divided into groups that are currently searching every corner of the facility. You offer to help with the unusual data.</p> \n",
       "<p>The unusual data (your puzzle input) consists of many <em>reports</em>, one report per line. Each report is a list of numbers called <em>levels</em> that are separated by spaces. For example:</p> \n",
       "<pre><code>7 6 4 2 1\n",
       "1 2 7 8 9\n",
       "9 7 6 2 1\n",
       "1 3 2 4 5\n",
       "8 6 4 4 1\n",
       "1 3 6 7 9\n",
       "</code></pre> \n",
       "<p>This example data contains six reports each containing five levels.</p> \n",
       "<p>The engineers are trying to figure out which reports are <em>safe</em>. The Red-Nosed reactor safety systems can only tolerate levels that are either gradually increasing or gradually decreasing. So, a report only counts as safe if both of the following are true:</p> \n",
       "<ul> \n",
       " <li>The levels are either <em>all increasing</em> or <em>all decreasing</em>.</li> \n",
       " <li>Any two adjacent levels differ by <em>at least one</em> and <em>at most three</em>.</li> \n",
       "</ul> \n",
       "<p>In the example above, the reports can be found safe or unsafe by checking those rules:</p> \n",
       "<ul> \n",
       " <li><code>7 6 4 2 1</code>: <em>Safe</em> because the levels are all decreasing by 1 or 2.</li> \n",
       " <li><code>1 2 7 8 9</code>: <em>Unsafe</em> because <code>2 7</code> is an increase of 5.</li> \n",
       " <li><code>9 7 6 2 1</code>: <em>Unsafe</em> because <code>6 2</code> is a decrease of 4.</li> \n",
       " <li><code>1 3 2 4 5</code>: <em>Unsafe</em> because <code>1 3</code> is increasing but <code>3 2</code> is decreasing.</li> \n",
       " <li><code>8 6 4 4 1</code>: <em>Unsafe</em> because <code>4 4</code> is neither an increase or a decrease.</li> \n",
       " <li><code>1 3 6 7 9</code>: <em>Safe</em> because the levels are all increasing by 1, 2, or 3.</li> \n",
       "</ul> \n",
       "<p>So, in this example, <code><em>2</em></code> reports are <em>safe</em>.</p> \n",
       "<p>Analyze the unusual data from the engineers. <em>How many reports are safe?</em></p>"
      ]
     },
     "execution_count": 8,
     "metadata": {},
     "output_type": "execute_result"
    }
   ],
   "execution_count": 8
  },
  {
   "metadata": {
    "ExecuteTime": {
     "end_time": "2024-12-10T23:24:29.721782586Z",
     "start_time": "2024-12-10T23:24:29.269565792Z"
    }
   },
   "cell_type": "code",
   "source": [
    "import aoc2024.Day02\n",
    "\n",
    "aoc.submitPartOne(Day02(aoc.input().lines()).obtenerSafeCount(1))"
   ],
   "outputs": [
    {
     "data": {
      "text/html": [
       "<p>The answer is correct!</p><p>Your answer: 369</p><small>You already completed this part.</small>"
      ]
     },
     "execution_count": 9,
     "metadata": {},
     "output_type": "execute_result"
    }
   ],
   "execution_count": 9
  },
  {
   "metadata": {
    "ExecuteTime": {
     "end_time": "2024-12-10T23:24:29.848151244Z",
     "start_time": "2024-12-10T23:24:29.750357412Z"
    }
   },
   "cell_type": "code",
   "source": "aoc.viewPartTwo()",
   "outputs": [
    {
     "data": {
      "text/html": [
       "<h2 id=\"part2\">--- Part Two ---</h2>\n",
       "<p>The engineers are surprised by the low number of safe reports until they realize they forgot to tell you about the <span title=\"I need to get one of these!\">Problem Dampener</span>.</p> \n",
       "<p>The Problem Dampener is a reactor-mounted module that lets the reactor safety systems <em>tolerate a single bad level</em> in what would otherwise be a safe report. It's like the bad level never happened!</p> \n",
       "<p>Now, the same rules apply as before, except if removing a single level from an unsafe report would make it safe, the report instead counts as safe.</p> \n",
       "<p>More of the above example's reports are now safe:</p> \n",
       "<ul> \n",
       " <li><code>7 6 4 2 1</code>: <em>Safe</em> without removing any level.</li> \n",
       " <li><code>1 2 7 8 9</code>: <em>Unsafe</em> regardless of which level is removed.</li> \n",
       " <li><code>9 7 6 2 1</code>: <em>Unsafe</em> regardless of which level is removed.</li> \n",
       " <li><code>1 <em>3</em> 2 4 5</code>: <em>Safe</em> by removing the second level, <code>3</code>.</li> \n",
       " <li><code>8 6 <em>4</em> 4 1</code>: <em>Safe</em> by removing the third level, <code>4</code>.</li> \n",
       " <li><code>1 3 6 7 9</code>: <em>Safe</em> without removing any level.</li> \n",
       "</ul> \n",
       "<p>Thanks to the Problem Dampener, <code><em>4</em></code> reports are actually <em>safe</em>!</p> \n",
       "<p>Update your analysis by handling situations where the Problem Dampener can remove a single level from unsafe reports. <em>How many reports are now safe?</em></p>"
      ]
     },
     "execution_count": 10,
     "metadata": {},
     "output_type": "execute_result"
    }
   ],
   "execution_count": 10
  },
  {
   "metadata": {
    "ExecuteTime": {
     "end_time": "2024-12-10T23:24:30.326686131Z",
     "start_time": "2024-12-10T23:24:29.864031244Z"
    }
   },
   "cell_type": "code",
   "source": "aoc.submitPartTwo(Day02(aoc.input().lines()).obtenerSafeCount(2))",
   "outputs": [
    {
     "data": {
      "text/html": [
       "<p>The answer is correct!</p><p>Your answer: 428</p><small>You already completed this part.</small>"
      ]
     },
     "execution_count": 11,
     "metadata": {},
     "output_type": "execute_result"
    }
   ],
   "execution_count": 11
  },
  {
   "metadata": {
    "ExecuteTime": {
     "end_time": "2024-12-10T23:24:30.483059234Z",
     "start_time": "2024-12-10T23:24:30.401033502Z"
    }
   },
   "cell_type": "code",
   "source": "aoc = AocClient.fromEnv().interactiveDay(2024, 3)",
   "outputs": [],
   "execution_count": 12
  },
  {
   "metadata": {
    "ExecuteTime": {
     "end_time": "2024-12-10T23:24:30.606999810Z",
     "start_time": "2024-12-10T23:24:30.512167946Z"
    }
   },
   "cell_type": "code",
   "source": "aoc.viewPartOne()",
   "outputs": [
    {
     "data": {
      "text/html": [
       "<h2>--- Day 3: Mull It Over ---</h2>\n",
       "<p>\"Our computers are having issues, so I have no idea if we have any Chief Historians <span title=\"There's a spot reserved for Chief Historians between the green toboggans and the red toboggans. They've never actually had any Chief Historians in stock, but it's best to be prepared.\">in stock</span>! You're welcome to check the warehouse, though,\" says the mildly flustered shopkeeper at the <a href=\"/2020/day/2\">North Pole Toboggan Rental Shop</a>. The Historians head out to take a look.</p> \n",
       "<p>The shopkeeper turns to you. \"Any chance you can see why our computers are having issues again?\"</p> \n",
       "<p>The computer appears to be trying to run a program, but its memory (your puzzle input) is <em>corrupted</em>. All of the instructions have been jumbled up!</p> \n",
       "<p>It seems like the goal of the program is just to <em>multiply some numbers</em>. It does that with instructions like <code>mul(X,Y)</code>, where <code>X</code> and <code>Y</code> are each 1-3 digit numbers. For instance, <code>mul(44,46)</code> multiplies <code>44</code> by <code>46</code> to get a result of <code>2024</code>. Similarly, <code>mul(123,4)</code> would multiply <code>123</code> by <code>4</code>.</p> \n",
       "<p>However, because the program's memory has been corrupted, there are also many invalid characters that should be <em>ignored</em>, even if they look like part of a <code>mul</code> instruction. Sequences like <code>mul(4*</code>, <code>mul(6,9!</code>, <code>?(12,34)</code>, or <code>mul ( 2 , 4 )</code> do <em>nothing</em>.</p> \n",
       "<p>For example, consider the following section of corrupted memory:</p> \n",
       "<pre><code>x<em>mul(2,4)</em>%&amp;mul[3,7]!@^do_not_<em>mul(5,5)</em>+mul(32,64]then(<em>mul(11,8)mul(8,5)</em>)</code></pre> \n",
       "<p>Only the four highlighted sections are real <code>mul</code> instructions. Adding up the result of each instruction produces <code><em>161</em></code> (<code>2*4 + 5*5 + 11*8 + 8*5</code>).</p> \n",
       "<p>Scan the corrupted memory for uncorrupted <code>mul</code> instructions. <em>What do you get if you add up all of the results of the multiplications?</em></p>"
      ]
     },
     "execution_count": 13,
     "metadata": {},
     "output_type": "execute_result"
    }
   ],
   "execution_count": 13
  },
  {
   "metadata": {
    "ExecuteTime": {
     "end_time": "2024-12-10T23:24:31.084119862Z",
     "start_time": "2024-12-10T23:24:30.619939948Z"
    }
   },
   "cell_type": "code",
   "source": [
    "import aoc2024.Day03\n",
    "\n",
    "aoc.submitPartOne(Day03(aoc.input().lines()).solvePart1())"
   ],
   "outputs": [
    {
     "data": {
      "text/html": [
       "<p>The answer is correct!</p><p>Your answer: 159892596</p><small>You already completed this part.</small>"
      ]
     },
     "execution_count": 14,
     "metadata": {},
     "output_type": "execute_result"
    }
   ],
   "execution_count": 14
  },
  {
   "metadata": {
    "ExecuteTime": {
     "end_time": "2024-12-10T23:24:31.180179866Z",
     "start_time": "2024-12-10T23:24:31.096268289Z"
    }
   },
   "cell_type": "code",
   "source": "aoc.viewPartTwo()",
   "outputs": [
    {
     "data": {
      "text/html": [
       "<h2 id=\"part2\">--- Part Two ---</h2>\n",
       "<p>As you scan through the corrupted memory, you notice that some of the conditional statements are also still intact. If you handle some of the uncorrupted conditional statements in the program, you might be able to get an even more accurate result.</p> \n",
       "<p>There are two new instructions you'll need to handle:</p> \n",
       "<ul> \n",
       " <li>The <code>do()</code> instruction <em>enables</em> future <code>mul</code> instructions.</li> \n",
       " <li>The <code>don't()</code> instruction <em>disables</em> future <code>mul</code> instructions.</li> \n",
       "</ul> \n",
       "<p>Only the <em>most recent</em> <code>do()</code> or <code>don't()</code> instruction applies. At the beginning of the program, <code>mul</code> instructions are <em>enabled</em>.</p> \n",
       "<p>For example:</p> \n",
       "<pre><code>x<em>mul(2,4)</em>&amp;mul[3,7]!^<em>don't()</em>_mul(5,5)+mul(32,64](mul(11,8)un<em>do()</em>?<em>mul(8,5)</em>)</code></pre> \n",
       "<p>This corrupted memory is similar to the example from before, but this time the <code>mul(5,5)</code> and <code>mul(11,8)</code> instructions are <em>disabled</em> because there is a <code>don't()</code> instruction before them. The other <code>mul</code> instructions function normally, including the one at the end that gets re-<em>enabled</em> by a <code>do()</code> instruction.</p> \n",
       "<p>This time, the sum of the results is <code><em>48</em></code> (<code>2*4 + 8*5</code>).</p> \n",
       "<p>Handle the new instructions; <em>what do you get if you add up all of the results of just the enabled multiplications?</em></p>"
      ]
     },
     "execution_count": 15,
     "metadata": {},
     "output_type": "execute_result"
    }
   ],
   "execution_count": 15
  },
  {
   "metadata": {
    "ExecuteTime": {
     "end_time": "2024-12-10T23:24:31.640722655Z",
     "start_time": "2024-12-10T23:24:31.197131500Z"
    }
   },
   "cell_type": "code",
   "source": "aoc.submitPartTwo(Day03(aoc.input().lines()).solvePart2())",
   "outputs": [
    {
     "data": {
      "text/html": [
       "<p>The answer is correct!</p><p>Your answer: 92626942</p><small>You already completed this part.</small>"
      ]
     },
     "execution_count": 16,
     "metadata": {},
     "output_type": "execute_result"
    }
   ],
   "execution_count": 16
  },
  {
   "metadata": {
    "ExecuteTime": {
     "end_time": "2024-12-10T23:24:31.738252009Z",
     "start_time": "2024-12-10T23:24:31.654373182Z"
    }
   },
   "cell_type": "code",
   "source": "aoc = AocClient.fromEnv().interactiveDay(2024, 4)",
   "outputs": [],
   "execution_count": 17
  },
  {
   "metadata": {
    "ExecuteTime": {
     "end_time": "2024-12-10T23:24:31.847621790Z",
     "start_time": "2024-12-10T23:24:31.752919967Z"
    }
   },
   "cell_type": "code",
   "source": "aoc.viewPartOne()",
   "outputs": [
    {
     "data": {
      "text/html": [
       "<h2>--- Day 4: Ceres Search ---</h2>\n",
       "<p>\"Looks like the Chief's not here. Next!\" One of The Historians pulls out a device and pushes the only button on it. After a brief flash, you recognize the interior of the <a href=\"/2019/day/10\">Ceres monitoring station</a>!</p> \n",
       "<p>As the search for the Chief continues, a small Elf who lives on the station tugs on your shirt; she'd like to know if you could help her with her <em>word search</em> (your puzzle input). She only has to find one word: <code>XMAS</code>.</p> \n",
       "<p>This word search allows words to be horizontal, vertical, diagonal, written backwards, or even overlapping other words. It's a little unusual, though, as you don't merely need to find one instance of <code>XMAS</code> - you need to find <em>all of them</em>. Here are a few ways <code>XMAS</code> might appear, where irrelevant characters have been replaced with <code>.</code>:</p>\n",
       "<p> </p>\n",
       "<pre><code>..X...\n",
       ".SAMX.\n",
       ".A..A.\n",
       "XMAS.S\n",
       ".X....\n",
       "</code></pre> \n",
       "<p>The actual word search will be full of letters instead. For example:</p> \n",
       "<pre><code>MMMSXXMASM\n",
       "MSAMXMSMSA\n",
       "AMXSXMAAMM\n",
       "MSAMASMSMX\n",
       "XMASAMXAMM\n",
       "XXAMMXXAMA\n",
       "SMSMSASXSS\n",
       "SAXAMASAAA\n",
       "MAMMMXMMMM\n",
       "MXMXAXMASX\n",
       "</code></pre> \n",
       "<p>In this word search, <code>XMAS</code> occurs a total of <code><em>18</em></code> times; here's the same word search again, but where letters not involved in any <code>XMAS</code> have been replaced with <code>.</code>:</p> \n",
       "<pre><code>....XXMAS.\n",
       ".SAMXMS...\n",
       "...S..A...\n",
       "..A.A.MS.X\n",
       "XMASAMX.MM\n",
       "X.....XA.A\n",
       "S.S.S.S.SS\n",
       ".A.A.A.A.A\n",
       "..M.M.M.MM\n",
       ".X.X.XMASX\n",
       "</code></pre> \n",
       "<p>Take a look at the little Elf's word search. <em>How many times does <code>XMAS</code> appear?</em></p>"
      ]
     },
     "execution_count": 18,
     "metadata": {},
     "output_type": "execute_result"
    }
   ],
   "execution_count": 18
  },
  {
   "metadata": {
    "ExecuteTime": {
     "end_time": "2024-12-10T23:24:32.317561405Z",
     "start_time": "2024-12-10T23:24:31.861728020Z"
    }
   },
   "cell_type": "code",
   "source": [
    "import aoc2024.Day04\n",
    "\n",
    "aoc.submitPartOne(Day04(aoc.input().lines()).solvePart1())"
   ],
   "outputs": [
    {
     "data": {
      "text/html": [
       "<p>The answer is correct!</p><p>Your answer: 2534</p><small>You already completed this part.</small>"
      ]
     },
     "execution_count": 19,
     "metadata": {},
     "output_type": "execute_result"
    }
   ],
   "execution_count": 19
  },
  {
   "metadata": {
    "ExecuteTime": {
     "end_time": "2024-12-10T23:24:32.412853402Z",
     "start_time": "2024-12-10T23:24:32.334376047Z"
    }
   },
   "cell_type": "code",
   "source": "aoc.viewPartTwo()",
   "outputs": [
    {
     "data": {
      "text/html": [
       "<h2 id=\"part2\">--- Part Two ---</h2>\n",
       "<p>The Elf looks quizzically at you. Did you misunderstand the assignment?</p> \n",
       "<p>Looking for the instructions, you flip over the word search to find that this isn't actually an <code><em>XMAS</em></code> puzzle; it's an <span title=\"This part originally involved searching for something else, but this joke was too dumb to pass up.\"><code><em>X-MAS</em></code></span> puzzle in which you're supposed to find two <code>MAS</code> in the shape of an <code>X</code>. One way to achieve that is like this:</p> \n",
       "<pre><code>M.S\n",
       ".A.\n",
       "M.S\n",
       "</code></pre> \n",
       "<p>Irrelevant characters have again been replaced with <code>.</code> in the above diagram. Within the <code>X</code>, each <code>MAS</code> can be written forwards or backwards.</p> \n",
       "<p>Here's the same example from before, but this time all of the <code>X-MAS</code>es have been kept instead:</p> \n",
       "<pre><code>.M.S......\n",
       "..A..MSMS.\n",
       ".M.S.MAA..\n",
       "..A.ASMSM.\n",
       ".M.S.M....\n",
       "..........\n",
       "S.S.S.S.S.\n",
       ".A.A.A.A..\n",
       "M.M.M.M.M.\n",
       "..........\n",
       "</code></pre> \n",
       "<p>In this example, an <code>X-MAS</code> appears <code><em>9</em></code> times.</p> \n",
       "<p>Flip the word search from the instructions back over to the word search side and try again. <em>How many times does an <code>X-MAS</code> appear?</em></p>"
      ]
     },
     "execution_count": 20,
     "metadata": {},
     "output_type": "execute_result"
    }
   ],
   "execution_count": 20
  },
  {
   "metadata": {
    "ExecuteTime": {
     "end_time": "2024-12-10T23:24:32.875253718Z",
     "start_time": "2024-12-10T23:24:32.426164529Z"
    }
   },
   "cell_type": "code",
   "source": "aoc.submitPartTwo(Day04(aoc.input().lines()).solvePart2())",
   "outputs": [
    {
     "data": {
      "text/html": [
       "<p>The answer is correct!</p><p>Your answer: 1866</p><small>You already completed this part.</small>"
      ]
     },
     "execution_count": 21,
     "metadata": {},
     "output_type": "execute_result"
    }
   ],
   "execution_count": 21
  },
  {
   "metadata": {
    "ExecuteTime": {
     "end_time": "2024-12-10T23:24:33.003835892Z",
     "start_time": "2024-12-10T23:24:32.924795749Z"
    }
   },
   "cell_type": "code",
   "source": "aoc = AocClient.fromEnv().interactiveDay(2024, 5)",
   "outputs": [],
   "execution_count": 22
  },
  {
   "metadata": {
    "ExecuteTime": {
     "end_time": "2024-12-10T23:24:33.138268223Z",
     "start_time": "2024-12-10T23:24:33.045344612Z"
    }
   },
   "cell_type": "code",
   "source": "aoc.viewPartOne()",
   "outputs": [
    {
     "data": {
      "text/html": [
       "<h2>--- Day 5: Print Queue ---</h2>\n",
       "<p>Satisfied with their search on Ceres, the squadron of scholars suggests subsequently scanning the <span title=\"Specifically, the surely-stationary stationery stacks.\">stationery</span> stacks of sub-basement 17.</p> \n",
       "<p>The North Pole printing department is busier than ever this close to Christmas, and while The Historians continue their search of this historically significant facility, an Elf operating a <a href=\"/2017/day/1\">very familiar printer</a> beckons you over.</p> \n",
       "<p>The Elf must recognize you, because they waste no time explaining that the new <em>sleigh launch safety manual</em> updates won't print correctly. Failure to update the safety manuals would be dire indeed, so you offer your services.</p> \n",
       "<p>Safety protocols clearly indicate that new pages for the safety manuals must be printed in a <em>very specific order</em>. The notation <code>X|Y</code> means that if both page number <code>X</code> and page number <code>Y</code> are to be produced as part of an update, page number <code>X</code> <em>must</em> be printed at some point before page number <code>Y</code>.</p> \n",
       "<p>The Elf has for you both the <em>page ordering rules</em> and the <em>pages to produce in each update</em> (your puzzle input), but can't figure out whether each update has the pages in the right order.</p> \n",
       "<p>For example:</p> \n",
       "<pre><code>47|53\n",
       "97|13\n",
       "97|61\n",
       "97|47\n",
       "75|29\n",
       "61|13\n",
       "75|53\n",
       "29|13\n",
       "97|29\n",
       "53|29\n",
       "61|53\n",
       "97|53\n",
       "61|29\n",
       "47|13\n",
       "75|47\n",
       "97|75\n",
       "47|61\n",
       "75|61\n",
       "47|29\n",
       "75|13\n",
       "53|13\n",
       "\n",
       "75,47,61,53,29\n",
       "97,61,53,29,13\n",
       "75,29,13\n",
       "75,97,47,61,53\n",
       "61,13,29\n",
       "97,13,75,29,47\n",
       "</code></pre> \n",
       "<p>The first section specifies the <em>page ordering rules</em>, one per line. The first rule, <code>47|53</code>, means that if an update includes both page number 47 and page number 53, then page number 47 <em>must</em> be printed at some point before page number 53. (47 doesn't necessarily need to be <em>immediately</em> before 53; other pages are allowed to be between them.)</p> \n",
       "<p>The second section specifies the page numbers of each <em>update</em>. Because most safety manuals are different, the pages needed in the updates are different too. The first update, <code>75,47,61,53,29</code>, means that the update consists of page numbers 75, 47, 61, 53, and 29.</p> \n",
       "<p>To get the printers going as soon as possible, start by identifying <em>which updates are already in the right order</em>.</p> \n",
       "<p>In the above example, the first update (<code>75,47,61,53,29</code>) is in the right order:</p> \n",
       "<ul> \n",
       " <li><code>75</code> is correctly first because there are rules that put each other page after it: <code>75|47</code>, <code>75|61</code>, <code>75|53</code>, and <code>75|29</code>.</li> \n",
       " <li><code>47</code> is correctly second because 75 must be before it (<code>75|47</code>) and every other page must be after it according to <code>47|61</code>, <code>47|53</code>, and <code>47|29</code>.</li> \n",
       " <li><code>61</code> is correctly in the middle because 75 and 47 are before it (<code>75|61</code> and <code>47|61</code>) and 53 and 29 are after it (<code>61|53</code> and <code>61|29</code>).</li> \n",
       " <li><code>53</code> is correctly fourth because it is before page number 29 (<code>53|29</code>).</li> \n",
       " <li><code>29</code> is the only page left and so is correctly last.</li> \n",
       "</ul> \n",
       "<p>Because the first update does not include some page numbers, the ordering rules involving those missing page numbers are ignored.</p> \n",
       "<p>The second and third updates are also in the correct order according to the rules. Like the first update, they also do not include every page number, and so only some of the ordering rules apply - within each update, the ordering rules that involve missing page numbers are not used.</p> \n",
       "<p>The fourth update, <code>75,97,47,61,53</code>, is <em>not</em> in the correct order: it would print 75 before 97, which violates the rule <code>97|75</code>.</p> \n",
       "<p>The fifth update, <code>61,13,29</code>, is also <em>not</em> in the correct order, since it breaks the rule <code>29|13</code>.</p> \n",
       "<p>The last update, <code>97,13,75,29,47</code>, is <em>not</em> in the correct order due to breaking several rules.</p> \n",
       "<p>For some reason, the Elves also need to know the <em>middle page number</em> of each update being printed. Because you are currently only printing the correctly-ordered updates, you will need to find the middle page number of each correctly-ordered update. In the above example, the correctly-ordered updates are:</p> \n",
       "<pre><code>75,47,<em>61</em>,53,29\n",
       "97,61,<em>53</em>,29,13\n",
       "75,<em>29</em>,13\n",
       "</code></pre> \n",
       "<p>These have middle page numbers of <code>61</code>, <code>53</code>, and <code>29</code> respectively. Adding these page numbers together gives <code><em>143</em></code>.</p> \n",
       "<p>Of course, you'll need to be careful: the actual list of <em>page ordering rules</em> is bigger and more complicated than the above example.</p> \n",
       "<p>Determine which updates are already in the correct order. <em>What do you get if you add up the middle page number from those correctly-ordered updates?</em></p>"
      ]
     },
     "execution_count": 23,
     "metadata": {},
     "output_type": "execute_result"
    }
   ],
   "execution_count": 23
  },
  {
   "metadata": {
    "ExecuteTime": {
     "end_time": "2024-12-10T23:24:33.647397231Z",
     "start_time": "2024-12-10T23:24:33.151551536Z"
    }
   },
   "cell_type": "code",
   "source": [
    "import aoc2024.Day05\n",
    "\n",
    "aoc.submitPartOne(Day05(aoc.input().lines()).resolverParte1())"
   ],
   "outputs": [
    {
     "data": {
      "text/html": [
       "<p>The answer is correct!</p><p>Your answer: 5651</p><small>You already completed this part.</small>"
      ]
     },
     "execution_count": 24,
     "metadata": {},
     "output_type": "execute_result"
    }
   ],
   "execution_count": 24
  },
  {
   "metadata": {
    "ExecuteTime": {
     "end_time": "2024-12-10T23:24:33.754127318Z",
     "start_time": "2024-12-10T23:24:33.663224606Z"
    }
   },
   "cell_type": "code",
   "source": "aoc.viewPartTwo()",
   "outputs": [
    {
     "data": {
      "text/html": [
       "<h2 id=\"part2\">--- Part Two ---</h2>\n",
       "<p>While the Elves get to work printing the correctly-ordered updates, you have a little time to fix the rest of them.</p> \n",
       "<p>For each of the <em>incorrectly-ordered updates</em>, use the page ordering rules to put the page numbers in the right order. For the above example, here are the three incorrectly-ordered updates and their correct orderings:</p> \n",
       "<ul> \n",
       " <li><code>75,97,47,61,53</code> becomes <code>97,75,<em>47</em>,61,53</code>.</li> \n",
       " <li><code>61,13,29</code> becomes <code>61,<em>29</em>,13</code>.</li> \n",
       " <li><code>97,13,75,29,47</code> becomes <code>97,75,<em>47</em>,29,13</code>.</li> \n",
       "</ul> \n",
       "<p>After taking <em>only the incorrectly-ordered updates</em> and ordering them correctly, their middle page numbers are <code>47</code>, <code>29</code>, and <code>47</code>. Adding these together produces <code><em>123</em></code>.</p> \n",
       "<p>Find the updates which are not in the correct order. <em>What do you get if you add up the middle page numbers after correctly ordering just those updates?</em></p>"
      ]
     },
     "execution_count": 25,
     "metadata": {},
     "output_type": "execute_result"
    }
   ],
   "execution_count": 25
  },
  {
   "metadata": {
    "ExecuteTime": {
     "end_time": "2024-12-10T23:24:34.245873958Z",
     "start_time": "2024-12-10T23:24:33.771418943Z"
    }
   },
   "cell_type": "code",
   "source": "aoc.submitPartTwo(Day05(aoc.input().lines()).resolverParte2())",
   "outputs": [
    {
     "data": {
      "text/html": [
       "<p>The answer is correct!</p><p>Your answer: 4743</p><small>You already completed this part.</small>"
      ]
     },
     "execution_count": 26,
     "metadata": {},
     "output_type": "execute_result"
    }
   ],
   "execution_count": 26
  },
  {
   "metadata": {
    "ExecuteTime": {
     "end_time": "2024-12-10T23:24:34.391498633Z",
     "start_time": "2024-12-10T23:24:34.263927806Z"
    }
   },
   "cell_type": "code",
   "source": [
    "aoc = AocClient.fromEnv().interactiveDay(2024, 6)\n",
    "\n",
    "aoc.viewPartOne()"
   ],
   "outputs": [
    {
     "data": {
      "text/html": [
       "<h2>--- Day 6: Guard Gallivant ---</h2>\n",
       "<p>The Historians use their fancy <a href=\"4\">device</a> again, this time to whisk you all away to the North Pole prototype suit manufacturing lab... in the year <a href=\"/2018/day/5\">1518</a>! It turns out that having direct access to history is very convenient for a group of historians.</p> \n",
       "<p>You still have to be careful of time paradoxes, and so it will be important to avoid anyone from 1518 while The Historians search for the Chief. Unfortunately, a single <em>guard</em> is patrolling this part of the lab.</p> \n",
       "<p>Maybe you can work out where the guard will go ahead of time so that The Historians can search safely?</p> \n",
       "<p>You start by making a map (your puzzle input) of the situation. For example:</p> \n",
       "<pre><code>....#.....\n",
       ".........#\n",
       "..........\n",
       "..#.......\n",
       ".......#..\n",
       "..........\n",
       ".#..^.....\n",
       "........#.\n",
       "#.........\n",
       "......#...\n",
       "</code></pre> \n",
       "<p>The map shows the current position of the guard with <code>^</code> (to indicate the guard is currently facing <em>up</em> from the perspective of the map). Any <em>obstructions</em> - crates, desks, alchemical reactors, etc. - are shown as <code>#</code>.</p> \n",
       "<p>Lab guards in 1518 follow a very strict patrol protocol which involves repeatedly following these steps:</p> \n",
       "<ul> \n",
       " <li>If there is something directly in front of you, turn right 90 degrees.</li> \n",
       " <li>Otherwise, take a step forward.</li> \n",
       "</ul> \n",
       "<p>Following the above protocol, the guard moves up several times until she reaches an obstacle (in this case, a pile of failed suit prototypes):</p> \n",
       "<pre><code>....#.....\n",
       "....^....#\n",
       "..........\n",
       "..#.......\n",
       ".......#..\n",
       "..........\n",
       ".#........\n",
       "........#.\n",
       "#.........\n",
       "......#...\n",
       "</code></pre> \n",
       "<p>Because there is now an obstacle in front of the guard, she turns right before continuing straight in her new facing direction:</p> \n",
       "<pre><code>....#.....\n",
       "........&gt;#\n",
       "..........\n",
       "..#.......\n",
       ".......#..\n",
       "..........\n",
       ".#........\n",
       "........#.\n",
       "#.........\n",
       "......#...\n",
       "</code></pre> \n",
       "<p>Reaching another obstacle (a spool of several <em>very</em> long polymers), she turns right again and continues downward:</p> \n",
       "<pre><code>....#.....\n",
       ".........#\n",
       "..........\n",
       "..#.......\n",
       ".......#..\n",
       "..........\n",
       ".#......v.\n",
       "........#.\n",
       "#.........\n",
       "......#...\n",
       "</code></pre> \n",
       "<p>This process continues for a while, but the guard eventually leaves the mapped area (after walking past a tank of universal solvent):</p> \n",
       "<pre><code>....#.....\n",
       ".........#\n",
       "..........\n",
       "..#.......\n",
       ".......#..\n",
       "..........\n",
       ".#........\n",
       "........#.\n",
       "#.........\n",
       "......#v..\n",
       "</code></pre> \n",
       "<p>By predicting the guard's route, you can determine which specific positions in the lab will be in the patrol path. <em>Including the guard's starting position</em>, the positions visited by the guard before leaving the area are marked with an <code>X</code>:</p> \n",
       "<pre><code>....#.....\n",
       "....XXXXX#\n",
       "....X...X.\n",
       "..#.X...X.\n",
       "..XXXXX#X.\n",
       "..X.X.X.X.\n",
       ".#XXXXXXX.\n",
       ".XXXXXXX#.\n",
       "#XXXXXXX..\n",
       "......#X..\n",
       "</code></pre> \n",
       "<p>In this example, the guard will visit <code><em>41</em></code> distinct positions on your map.</p> \n",
       "<p>Predict the path of the guard. <em>How many distinct positions will the guard visit before leaving the mapped area?</em></p>"
      ]
     },
     "execution_count": 27,
     "metadata": {},
     "output_type": "execute_result"
    }
   ],
   "execution_count": 27
  },
  {
   "metadata": {
    "ExecuteTime": {
     "end_time": "2024-12-10T23:24:34.978815987Z",
     "start_time": "2024-12-10T23:24:34.457659788Z"
    }
   },
   "cell_type": "code",
   "source": [
    "import aoc2024.Day06\n",
    "\n",
    "aoc.submitPartOne(Day06(aoc.input().lines()).parte1())"
   ],
   "outputs": [
    {
     "data": {
      "text/html": [
       "<p>The answer is correct!</p><p>Your answer: 5030</p><small>You already completed this part.</small>"
      ]
     },
     "execution_count": 28,
     "metadata": {},
     "output_type": "execute_result"
    }
   ],
   "execution_count": 28
  },
  {
   "metadata": {
    "ExecuteTime": {
     "end_time": "2024-12-10T23:24:35.089935788Z",
     "start_time": "2024-12-10T23:24:34.997985123Z"
    }
   },
   "cell_type": "code",
   "source": "aoc.viewPartTwo()",
   "outputs": [
    {
     "data": {
      "text/html": [
       "<h2 id=\"part2\">--- Part Two ---</h2>\n",
       "<p>While The Historians begin working around the guard's patrol route, you borrow their fancy device and step outside the lab. From the safety of a supply closet, you time travel through the last few months and <a href=\"/2018/day/4\">record</a> the nightly status of the lab's guard post on the walls of the closet.</p> \n",
       "<p>Returning after what seems like only a few seconds to The Historians, they explain that the guard's patrol area is simply too large for them to safely search the lab without getting caught.</p> \n",
       "<p>Fortunately, they are <em>pretty sure</em> that adding a single new obstruction <em>won't</em> cause a time paradox. They'd like to place the new obstruction in such a way that the guard will get <span title=\"This vulnerability was later fixed by having the guard always turn left instead.\"><em>stuck in a loop</em></span>, making the rest of the lab safe to search.</p> \n",
       "<p>To have the lowest chance of creating a time paradox, The Historians would like to know <em>all</em> of the possible positions for such an obstruction. The new obstruction can't be placed at the guard's starting position - the guard is there right now and would notice.</p> \n",
       "<p>In the above example, there are only <code><em>6</em></code> different positions where a new obstruction would cause the guard to get stuck in a loop. The diagrams of these six situations use <code>O</code> to mark the new obstruction, <code>|</code> to show a position where the guard moves up/down, <code>-</code> to show a position where the guard moves left/right, and <code>+</code> to show a position where the guard moves both up/down and left/right.</p> \n",
       "<p>Option one, put a printing press next to the guard's starting position:</p> \n",
       "<pre><code>....#.....\n",
       "....+---+#\n",
       "....|...|.\n",
       "..#.|...|.\n",
       "....|..#|.\n",
       "....|...|.\n",
       ".#.<em>O</em>^---+.\n",
       "........#.\n",
       "#.........\n",
       "......#...\n",
       "</code></pre> \n",
       "<p>Option two, put a stack of failed suit prototypes in the bottom right quadrant of the mapped area:</p>\n",
       "<p> </p>\n",
       "<pre><code>....#.....\n",
       "....+---+#\n",
       "....|...|.\n",
       "..#.|...|.\n",
       "..+-+-+#|.\n",
       "..|.|.|.|.\n",
       ".#+-^-+-+.\n",
       "......<em>O</em>.#.\n",
       "#.........\n",
       "......#...\n",
       "</code></pre> \n",
       "<p>Option three, put a crate of chimney-squeeze prototype fabric next to the standing desk in the bottom right quadrant:</p> \n",
       "<pre><code>....#.....\n",
       "....+---+#\n",
       "....|...|.\n",
       "..#.|...|.\n",
       "..+-+-+#|.\n",
       "..|.|.|.|.\n",
       ".#+-^-+-+.\n",
       ".+----+<em>O</em>#.\n",
       "#+----+...\n",
       "......#...\n",
       "</code></pre> \n",
       "<p>Option four, put an alchemical retroencabulator near the bottom left corner:</p> \n",
       "<pre><code>....#.....\n",
       "....+---+#\n",
       "....|...|.\n",
       "..#.|...|.\n",
       "..+-+-+#|.\n",
       "..|.|.|.|.\n",
       ".#+-^-+-+.\n",
       "..|...|.#.\n",
       "#<em>O</em>+---+...\n",
       "......#...\n",
       "</code></pre> \n",
       "<p>Option five, put the alchemical retroencabulator a bit to the right instead:</p> \n",
       "<pre><code>....#.....\n",
       "....+---+#\n",
       "....|...|.\n",
       "..#.|...|.\n",
       "..+-+-+#|.\n",
       "..|.|.|.|.\n",
       ".#+-^-+-+.\n",
       "....|.|.#.\n",
       "#..<em>O</em>+-+...\n",
       "......#...\n",
       "</code></pre> \n",
       "<p>Option six, put a tank of sovereign glue right next to the tank of universal solvent:</p> \n",
       "<pre><code>....#.....\n",
       "....+---+#\n",
       "....|...|.\n",
       "..#.|...|.\n",
       "..+-+-+#|.\n",
       "..|.|.|.|.\n",
       ".#+-^-+-+.\n",
       ".+----++#.\n",
       "#+----++..\n",
       "......#<em>O</em>..\n",
       "</code></pre> \n",
       "<p>It doesn't really matter what you choose to use as an obstacle so long as you and The Historians can put it into position without the guard noticing. The important thing is having enough options that you can find one that minimizes time paradoxes, and in this example, there are <code><em>6</em></code> different positions you could choose.</p> \n",
       "<p>You need to get the guard stuck in a loop by adding a single new obstruction. <em>How many different positions could you choose for this obstruction?</em></p>"
      ]
     },
     "execution_count": 29,
     "metadata": {},
     "output_type": "execute_result"
    }
   ],
   "execution_count": 29
  },
  {
   "metadata": {
    "ExecuteTime": {
     "end_time": "2024-12-10T23:24:38.217792055Z",
     "start_time": "2024-12-10T23:24:35.102772737Z"
    }
   },
   "cell_type": "code",
   "source": "aoc.submitPartTwo(Day06(aoc.input().lines()).parte2())",
   "outputs": [
    {
     "data": {
      "text/html": [
       "<p>The answer is correct!</p><p>Your answer: 1928</p><small>You already completed this part.</small>"
      ]
     },
     "execution_count": 30,
     "metadata": {},
     "output_type": "execute_result"
    }
   ],
   "execution_count": 30
  },
  {
   "metadata": {
    "ExecuteTime": {
     "end_time": "2024-12-10T23:24:38.316959158Z",
     "start_time": "2024-12-10T23:24:38.231502256Z"
    }
   },
   "cell_type": "code",
   "source": "aoc = AocClient.fromEnv().interactiveDay(2024, 7)",
   "outputs": [],
   "execution_count": 31
  },
  {
   "metadata": {
    "ExecuteTime": {
     "end_time": "2024-12-10T23:24:38.429011257Z",
     "start_time": "2024-12-10T23:24:38.327963470Z"
    }
   },
   "cell_type": "code",
   "source": "aoc.viewPartOne()",
   "outputs": [
    {
     "data": {
      "text/html": [
       "<h2>--- Day 7: Bridge Repair ---</h2>\n",
       "<p>The Historians take you to a familiar <a href=\"/2022/day/9\">rope bridge</a> over a river in the middle of a jungle. The Chief isn't on this side of the bridge, though; maybe he's on the other side?</p> \n",
       "<p>When you go to cross the bridge, you notice a group of engineers trying to repair it. (Apparently, it breaks pretty frequently.) You won't be able to cross until it's fixed.</p> \n",
       "<p>You ask how long it'll take; the engineers tell you that it only needs final calibrations, but some young elephants were playing nearby and <em>stole all the operators</em> from their calibration equations! They could finish the calibrations if only someone could determine which test values could possibly be produced by placing any combination of operators into their calibration equations (your puzzle input).</p> \n",
       "<p>For example:</p> \n",
       "<pre><code>190: 10 19\n",
       "3267: 81 40 27\n",
       "83: 17 5\n",
       "156: 15 6\n",
       "7290: 6 8 6 15\n",
       "161011: 16 10 13\n",
       "192: 17 8 14\n",
       "21037: 9 7 18 13\n",
       "292: 11 6 16 20\n",
       "</code></pre> \n",
       "<p>Each line represents a single equation. The test value appears before the colon on each line; it is your job to determine whether the remaining numbers can be combined with operators to produce the test value.</p> \n",
       "<p>Operators are <em>always evaluated left-to-right</em>, <em>not</em> according to precedence rules. Furthermore, numbers in the equations cannot be rearranged. Glancing into the jungle, you can see elephants holding two different types of operators: <em>add</em> (<code>+</code>) and <em>multiply</em> (<code>*</code>).</p> \n",
       "<p>Only three of the above equations can be made true by inserting operators:</p> \n",
       "<ul> \n",
       " <li><code>190: 10 19</code> has only one position that accepts an operator: between <code>10</code> and <code>19</code>. Choosing <code>+</code> would give <code>29</code>, but choosing <code>*</code> would give the test value (<code>10 * 19 = 190</code>).</li> \n",
       " <li><code>3267: 81 40 27</code> has two positions for operators. Of the four possible configurations of the operators, <em>two</em> cause the right side to match the test value: <code>81 + 40 * 27</code> and <code>81 * 40 + 27</code> both equal <code>3267</code> (when evaluated left-to-right)!</li> \n",
       " <li><code>292: 11 6 16 20</code> can be solved in exactly one way: <code>11 + 6 * 16 + 20</code>.</li> \n",
       "</ul> \n",
       "<p>The engineers just need the <em>total calibration result</em>, which is the sum of the test values from just the equations that could possibly be true. In the above example, the sum of the test values for the three equations listed above is <code><em>3749</em></code>.</p> \n",
       "<p>Determine which equations could possibly be true. <em>What is their total calibration result?</em></p>"
      ]
     },
     "execution_count": 32,
     "metadata": {},
     "output_type": "execute_result"
    }
   ],
   "execution_count": 32
  },
  {
   "metadata": {
    "ExecuteTime": {
     "end_time": "2024-12-10T23:24:38.970783991Z",
     "start_time": "2024-12-10T23:24:38.483156756Z"
    }
   },
   "cell_type": "code",
   "source": [
    "import aoc2024.Day07\n",
    "\n",
    "aoc.submitPartOne(Day07(aoc.input().lines()).parte1())"
   ],
   "outputs": [
    {
     "data": {
      "text/html": [
       "<p>The answer is correct!</p><p>Your answer: 4122618559853</p><small>You already completed this part.</small>"
      ]
     },
     "execution_count": 33,
     "metadata": {},
     "output_type": "execute_result"
    }
   ],
   "execution_count": 33
  },
  {
   "metadata": {
    "ExecuteTime": {
     "end_time": "2024-12-10T23:24:39.061790165Z",
     "start_time": "2024-12-10T23:24:38.988807495Z"
    }
   },
   "cell_type": "code",
   "source": "aoc.viewPartTwo()",
   "outputs": [
    {
     "data": {
      "text/html": [
       "<h2 id=\"part2\">--- Part Two ---</h2>\n",
       "<p>The engineers seem concerned; the total calibration result you gave them is nowhere close to being within safety tolerances. Just then, you spot your mistake: some well-hidden elephants are holding a <em>third type of operator</em>.</p> \n",
       "<p>The <a href=\"https://en.wikipedia.org/wiki/Concatenation\" target=\"_blank\">concatenation</a> operator (<code><span title=\"I think you mean &quot;.&quot;.\">||</span></code>) combines the digits from its left and right inputs into a single number. For example, <code>12 || 345</code> would become <code>12345</code>. All operators are still evaluated left-to-right.</p> \n",
       "<p>Now, apart from the three equations that could be made true using only addition and multiplication, the above example has three more equations that can be made true by inserting operators:</p> \n",
       "<ul> \n",
       " <li><code>156: 15 6</code> can be made true through a single concatenation: <code>15 || 6 = 156</code>.</li> \n",
       " <li><code>7290: 6 8 6 15</code> can be made true using <code>6 * 8 || 6 * 15</code>.</li> \n",
       " <li><code>192: 17 8 14</code> can be made true using <code>17 || 8 + 14</code>.</li> \n",
       "</ul> \n",
       "<p>Adding up all six test values (the three that could be made before using only <code>+</code> and <code>*</code> plus the new three that can now be made by also using <code>||</code>) produces the new <em>total calibration result</em> of <code><em>11387</em></code>.</p> \n",
       "<p>Using your new knowledge of elephant hiding spots, determine which equations could possibly be true. <em>What is their total calibration result?</em></p>"
      ]
     },
     "execution_count": 34,
     "metadata": {},
     "output_type": "execute_result"
    }
   ],
   "execution_count": 34
  },
  {
   "metadata": {
    "ExecuteTime": {
     "end_time": "2024-12-10T23:24:40.055430088Z",
     "start_time": "2024-12-10T23:24:39.089206803Z"
    }
   },
   "cell_type": "code",
   "source": "aoc.submitPartTwo(Day07(aoc.input().lines()).parte2())",
   "outputs": [
    {
     "data": {
      "text/html": [
       "<p>The answer is correct!</p><p>Your answer: 227615740238334</p><small>You already completed this part.</small>"
      ]
     },
     "execution_count": 35,
     "metadata": {},
     "output_type": "execute_result"
    }
   ],
   "execution_count": 35
  },
  {
   "metadata": {
    "ExecuteTime": {
     "end_time": "2024-12-10T23:24:40.186938746Z",
     "start_time": "2024-12-10T23:24:40.072483984Z"
    }
   },
   "cell_type": "code",
   "source": [
    "aoc = AocClient.fromEnv().interactiveDay(2024, 8)\n",
    "\n",
    "aoc.viewPartOne()"
   ],
   "outputs": [
    {
     "data": {
      "text/html": [
       "<h2>--- Day 8: Resonant Collinearity ---</h2>\n",
       "<p>You find yourselves on the <a href=\"/2016/day/25\">roof</a> of a top-secret Easter Bunny installation.</p> \n",
       "<p>While The Historians do their thing, you take a look at the familiar <em>huge antenna</em>. Much to your surprise, it seems to have been reconfigured to emit a signal that makes people 0.1% more likely to buy Easter Bunny brand <span title=\"They could have imitated delicious chocolate, but the mediocre chocolate is WAY easier to imitate.\">Imitation Mediocre</span> Chocolate as a Christmas gift! Unthinkable!</p> \n",
       "<p>Scanning across the city, you find that there are actually many such antennas. Each antenna is tuned to a specific <em>frequency</em> indicated by a single lowercase letter, uppercase letter, or digit. You create a map (your puzzle input) of these antennas. For example:</p> \n",
       "<pre><code>............\n",
       "........0...\n",
       ".....0......\n",
       ".......0....\n",
       "....0.......\n",
       "......A.....\n",
       "............\n",
       "............\n",
       "........A...\n",
       ".........A..\n",
       "............\n",
       "............\n",
       "</code></pre> \n",
       "<p>The signal only applies its nefarious effect at specific <em>antinodes</em> based on the resonant frequencies of the antennas. In particular, an antinode occurs at any point that is perfectly in line with two antennas of the same frequency - but only when one of the antennas is twice as far away as the other. This means that for any pair of antennas with the same frequency, there are two antinodes, one on either side of them.</p> \n",
       "<p>So, for these two antennas with frequency <code>a</code>, they create the two antinodes marked with <code>#</code>:</p> \n",
       "<pre><code>..........\n",
       "...#......\n",
       "..........\n",
       "....a.....\n",
       "..........\n",
       ".....a....\n",
       "..........\n",
       "......#...\n",
       "..........\n",
       "..........\n",
       "</code></pre> \n",
       "<p>Adding a third antenna with the same frequency creates several more antinodes. It would ideally add four antinodes, but two are off the right side of the map, so instead it adds only two:</p> \n",
       "<pre><code>..........\n",
       "...#......\n",
       "#.........\n",
       "....a.....\n",
       "........a.\n",
       ".....a....\n",
       "..#.......\n",
       "......#...\n",
       "..........\n",
       "..........\n",
       "</code></pre> \n",
       "<p>Antennas with different frequencies don't create antinodes; <code>A</code> and <code>a</code> count as different frequencies. However, antinodes <em>can</em> occur at locations that contain antennas. In this diagram, the lone antenna with frequency capital <code>A</code> creates no antinodes but has a lowercase-<code>a</code>-frequency antinode at its location:</p> \n",
       "<pre><code>..........\n",
       "...#......\n",
       "#.........\n",
       "....a.....\n",
       "........a.\n",
       ".....a....\n",
       "..#.......\n",
       "......A...\n",
       "..........\n",
       "..........\n",
       "</code></pre> \n",
       "<p>The first example has antennas with two different frequencies, so the antinodes they create look like this, plus an antinode overlapping the topmost <code>A</code>-frequency antenna:</p> \n",
       "<pre><code>......#....#\n",
       "...#....0...\n",
       "....#0....#.\n",
       "..#....0....\n",
       "....0....#..\n",
       ".#....A.....\n",
       "...#........\n",
       "#......#....\n",
       "........A...\n",
       ".........A..\n",
       "..........#.\n",
       "..........#.\n",
       "</code></pre> \n",
       "<p>Because the topmost <code>A</code>-frequency antenna overlaps with a <code>0</code>-frequency antinode, there are <code><em>14</em></code> total unique locations that contain an antinode within the bounds of the map.</p> \n",
       "<p>Calculate the impact of the signal. <em>How many unique locations within the bounds of the map contain an antinode?</em></p>"
      ]
     },
     "execution_count": 36,
     "metadata": {},
     "output_type": "execute_result"
    }
   ],
   "execution_count": 36
  },
  {
   "metadata": {
    "ExecuteTime": {
     "end_time": "2024-12-10T23:24:40.676224609Z",
     "start_time": "2024-12-10T23:24:40.218695202Z"
    }
   },
   "cell_type": "code",
   "source": [
    "import aoc2024.Day08\n",
    "\n",
    "aoc.submitPartOne(Day08(aoc.input().lines()).parte1())"
   ],
   "outputs": [
    {
     "data": {
      "text/html": [
       "<p>The answer is correct!</p><p>Your answer: 398</p><small>You already completed this part.</small>"
      ]
     },
     "execution_count": 37,
     "metadata": {},
     "output_type": "execute_result"
    }
   ],
   "execution_count": 37
  },
  {
   "metadata": {
    "ExecuteTime": {
     "end_time": "2024-12-10T23:24:40.857371303Z",
     "start_time": "2024-12-10T23:24:40.775523298Z"
    }
   },
   "cell_type": "code",
   "source": "aoc.viewPartTwo()",
   "outputs": [
    {
     "data": {
      "text/html": [
       "<h2 id=\"part2\">--- Part Two ---</h2>\n",
       "<p>Watching over your shoulder as you work, one of The Historians asks if you took the effects of resonant harmonics into your calculations.</p> \n",
       "<p>Whoops!</p> \n",
       "<p>After updating your model, it turns out that an antinode occurs at <em>any grid position</em> exactly in line with at least two antennas of the same frequency, regardless of distance. This means that some of the new antinodes will occur at the position of each antenna (unless that antenna is the only one of its frequency).</p> \n",
       "<p>So, these three <code>T</code>-frequency antennas now create many antinodes:</p> \n",
       "<pre><code>T....#....\n",
       "...T......\n",
       ".T....#...\n",
       ".........#\n",
       "..#.......\n",
       "..........\n",
       "...#......\n",
       "..........\n",
       "....#.....\n",
       "..........\n",
       "</code></pre> \n",
       "<p>In fact, the three <code>T</code>-frequency antennas are all exactly in line with two antennas, so they are all also antinodes! This brings the total number of antinodes in the above example to <code><em>9</em></code>.</p> \n",
       "<p>The original example now has <code><em>34</em></code> antinodes, including the antinodes that appear on every antenna:</p> \n",
       "<pre><code>##....#....#\n",
       ".#.#....0...\n",
       "..#.#0....#.\n",
       "..##...0....\n",
       "....0....#..\n",
       ".#...#A....#\n",
       "...#..#.....\n",
       "#....#.#....\n",
       "..#.....A...\n",
       "....#....A..\n",
       ".#........#.\n",
       "...#......##\n",
       "</code></pre> \n",
       "<p>Calculate the impact of the signal using this updated model. <em>How many unique locations within the bounds of the map contain an antinode?</em></p>"
      ]
     },
     "execution_count": 38,
     "metadata": {},
     "output_type": "execute_result"
    }
   ],
   "execution_count": 38
  },
  {
   "metadata": {
    "ExecuteTime": {
     "end_time": "2024-12-10T23:24:41.325989897Z",
     "start_time": "2024-12-10T23:24:40.867671377Z"
    }
   },
   "cell_type": "code",
   "source": "aoc.submitPartTwo(Day08(aoc.input().lines()).parte2())",
   "outputs": [
    {
     "data": {
      "text/html": [
       "<p>The answer is correct!</p><p>Your answer: 1333</p><small>You already completed this part.</small>"
      ]
     },
     "execution_count": 39,
     "metadata": {},
     "output_type": "execute_result"
    }
   ],
   "execution_count": 39
  },
  {
   "metadata": {
    "ExecuteTime": {
     "end_time": "2024-12-10T23:24:41.435300595Z",
     "start_time": "2024-12-10T23:24:41.342548048Z"
    }
   },
   "cell_type": "code",
   "source": [
    "aoc = AocClient.fromEnv().interactiveDay(2024, 9)\n",
    "\n",
    "aoc.viewPartOne()"
   ],
   "outputs": [
    {
     "data": {
      "text/html": [
       "<h2>--- Day 9: Disk Fragmenter ---</h2>\n",
       "<p>Another push of the button leaves you in the familiar hallways of some friendly <a href=\"/2021/day/23\">amphipods</a>! Good thing you each somehow got your own personal mini submarine. The Historians jet away in search of the Chief, mostly by driving directly into walls.</p> \n",
       "<p>While The Historians quickly figure out how to pilot these things, you notice an amphipod in the corner struggling with his computer. He's trying to make more contiguous free space by compacting all of the files, but his program isn't working; you offer to help.</p> \n",
       "<p>He shows you the <em>disk map</em> (your puzzle input) he's already generated. For example:</p> \n",
       "<pre><code>2333133121414131402</code></pre> \n",
       "<p>The disk map uses a dense format to represent the layout of <em>files</em> and <em>free space</em> on the disk. The digits alternate between indicating the length of a file and the length of free space.</p> \n",
       "<p>So, a disk map like <code>12345</code> would represent a one-block file, two blocks of free space, a three-block file, four blocks of free space, and then a five-block file. A disk map like <code>90909</code> would represent three nine-block files in a row (with no free space between them).</p> \n",
       "<p>Each file on disk also has an <em>ID number</em> based on the order of the files as they appear <em>before</em> they are rearranged, starting with ID <code>0</code>. So, the disk map <code>12345</code> has three files: a one-block file with ID <code>0</code>, a three-block file with ID <code>1</code>, and a five-block file with ID <code>2</code>. Using one character for each block where digits are the file ID and <code>.</code> is free space, the disk map <code>12345</code> represents these individual blocks:</p> \n",
       "<pre><code>0..111....22222</code></pre> \n",
       "<p>The first example above, <code>2333133121414131402</code>, represents these individual blocks:</p> \n",
       "<pre><code>00...111...2...333.44.5555.6666.777.888899</code></pre> \n",
       "<p>The amphipod would like to <em>move file blocks one at a time</em> from the end of the disk to the leftmost free space block (until there are no gaps remaining between file blocks). For the disk map <code>12345</code>, the process looks like this:</p> \n",
       "<pre><code>0..111....22222\n",
       "02.111....2222.\n",
       "022111....222..\n",
       "0221112...22...\n",
       "02211122..2....\n",
       "022111222......\n",
       "</code></pre> \n",
       "<p>The first example requires a few more steps:</p> \n",
       "<pre><code>00...111...2...333.44.5555.6666.777.888899\n",
       "009..111...2...333.44.5555.6666.777.88889.\n",
       "0099.111...2...333.44.5555.6666.777.8888..\n",
       "00998111...2...333.44.5555.6666.777.888...\n",
       "009981118..2...333.44.5555.6666.777.88....\n",
       "0099811188.2...333.44.5555.6666.777.8.....\n",
       "009981118882...333.44.5555.6666.777.......\n",
       "0099811188827..333.44.5555.6666.77........\n",
       "00998111888277.333.44.5555.6666.7.........\n",
       "009981118882777333.44.5555.6666...........\n",
       "009981118882777333644.5555.666............\n",
       "00998111888277733364465555.66.............\n",
       "0099811188827773336446555566..............\n",
       "</code></pre> \n",
       "<p>The final step of this file-compacting process is to update the <em>filesystem checksum</em>. To calculate the checksum, add up the result of multiplying each of these blocks' position with the file ID number it contains. The leftmost block is in position <code>0</code>. If a block contains free space, skip it instead.</p> \n",
       "<p>Continuing the first example, the first few blocks' position multiplied by its file ID number are <code>0 * 0 = 0</code>, <code>1 * 0 = 0</code>, <code>2 * 9 = 18</code>, <code>3 * 9 = 27</code>, <code>4 * 8 = 32</code>, and so on. In this example, the checksum is the sum of these, <code><em>1928</em></code>.</p> \n",
       "<p><span title=\"Bonus points if you make a cool animation of this process.\">Compact the amphipod's hard drive</span> using the process he requested. <em>What is the resulting filesystem checksum?</em> <span class=\"quiet\">(Be careful copy/pasting the input for this puzzle; it is a single, very long line.)</span></p>"
      ]
     },
     "execution_count": 40,
     "metadata": {},
     "output_type": "execute_result"
    }
   ],
   "execution_count": 40
  },
  {
   "metadata": {
    "ExecuteTime": {
     "end_time": "2024-12-10T23:24:41.891207896Z",
     "start_time": "2024-12-10T23:24:41.454794682Z"
    }
   },
   "cell_type": "code",
   "source": [
    "import aoc2024.Day09\n",
    "\n",
    "aoc.submitPartOne(Day09(aoc.input()).resolverParte1())"
   ],
   "outputs": [
    {
     "data": {
      "text/html": [
       "<p>The answer is correct!</p><p>Your answer: 6283404590840</p><small>You already completed this part.</small>"
      ]
     },
     "execution_count": 41,
     "metadata": {},
     "output_type": "execute_result"
    }
   ],
   "execution_count": 41
  },
  {
   "metadata": {
    "ExecuteTime": {
     "end_time": "2024-12-10T23:24:42.008749228Z",
     "start_time": "2024-12-10T23:24:41.904372795Z"
    }
   },
   "cell_type": "code",
   "source": "aoc.viewPartTwo()",
   "outputs": [
    {
     "data": {
      "text/html": [
       "<h2 id=\"part2\">--- Part Two ---</h2>\n",
       "<p>Upon completion, two things immediately become clear. First, the disk definitely has a lot more contiguous free space, just like the amphipod hoped. Second, the computer is running much more slowly! Maybe introducing all of that <a href=\"https://en.wikipedia.org/wiki/File_system_fragmentation\" target=\"_blank\">file system fragmentation</a> was a bad idea?</p> \n",
       "<p>The eager amphipod already has a new plan: rather than move individual blocks, he'd like to try compacting the files on his disk by moving <em>whole files</em> instead.</p> \n",
       "<p>This time, attempt to move whole files to the leftmost span of free space blocks that could fit the file. Attempt to move each file exactly once in order of <em>decreasing file ID number</em> starting with the file with the highest file ID number. If there is no span of free space to the left of a file that is large enough to fit the file, the file does not move.</p> \n",
       "<p>The first example from above now proceeds differently:</p> \n",
       "<pre><code>00...111...2...333.44.5555.6666.777.888899\n",
       "0099.111...2...333.44.5555.6666.777.8888..\n",
       "0099.1117772...333.44.5555.6666.....8888..\n",
       "0099.111777244.333....5555.6666.....8888..\n",
       "00992111777.44.333....5555.6666.....8888..\n",
       "</code></pre> \n",
       "<p>The process of updating the filesystem checksum is the same; now, this example's checksum would be <code><em>2858</em></code>.</p> \n",
       "<p>Start over, now compacting the amphipod's hard drive using this new method instead. <em>What is the resulting filesystem checksum?</em></p>"
      ]
     },
     "execution_count": 42,
     "metadata": {},
     "output_type": "execute_result"
    }
   ],
   "execution_count": 42
  },
  {
   "metadata": {
    "ExecuteTime": {
     "end_time": "2024-12-10T23:24:42.452994351Z",
     "start_time": "2024-12-10T23:24:42.022666475Z"
    }
   },
   "cell_type": "code",
   "source": "aoc.submitPartTwo(Day09(aoc.input()).resolverParte2())",
   "outputs": [
    {
     "data": {
      "text/html": [
       "<p>The answer is correct!</p><p>Your answer: 6304576012713</p><small>You already completed this part.</small>"
      ]
     },
     "execution_count": 43,
     "metadata": {},
     "output_type": "execute_result"
    }
   ],
   "execution_count": 43
  },
  {
   "metadata": {
    "ExecuteTime": {
     "end_time": "2024-12-10T23:24:42.615674871Z",
     "start_time": "2024-12-10T23:24:42.529032552Z"
    }
   },
   "cell_type": "code",
   "source": [
    "aoc = AocClient.fromEnv().interactiveDay(2024, 10)\n",
    "\n",
    "aoc.viewPartOne()"
   ],
   "outputs": [
    {
     "data": {
      "text/html": [
       "<h2>--- Day 10: Hoof It ---</h2>\n",
       "<p>You all arrive at a <a href=\"/2023/day/15\">Lava Production Facility</a> on a floating island in the sky. As the others begin to search the massive industrial complex, you feel a small nose boop your leg and look down to discover a <span title=\"i knew you would come back\">reindeer</span> wearing a hard hat.</p> \n",
       "<p>The reindeer is holding a book titled \"Lava Island Hiking Guide\". However, when you open the book, you discover that most of it seems to have been scorched by lava! As you're about to ask how you can help, the reindeer brings you a blank <a href=\"https://en.wikipedia.org/wiki/Topographic_map\" target=\"_blank\">topographic map</a> of the surrounding area (your puzzle input) and looks up at you excitedly.</p> \n",
       "<p>Perhaps you can help fill in the missing hiking trails?</p> \n",
       "<p>The topographic map indicates the <em>height</em> at each position using a scale from <code>0</code> (lowest) to <code>9</code> (highest). For example:</p> \n",
       "<pre><code>0123\n",
       "1234\n",
       "8765\n",
       "9876\n",
       "</code></pre> \n",
       "<p>Based on un-scorched scraps of the book, you determine that a good hiking trail is <em>as long as possible</em> and has an <em>even, gradual, uphill slope</em>. For all practical purposes, this means that a <em>hiking trail</em> is any path that starts at height <code>0</code>, ends at height <code>9</code>, and always increases by a height of exactly 1 at each step. Hiking trails never include diagonal steps - only up, down, left, or right (from the perspective of the map).</p> \n",
       "<p>You look up from the map and notice that the reindeer has helpfully begun to construct a small pile of pencils, markers, rulers, compasses, stickers, and other equipment you might need to update the map with hiking trails.</p> \n",
       "<p>A <em>trailhead</em> is any position that starts one or more hiking trails - here, these positions will always have height <code>0</code>. Assembling more fragments of pages, you establish that a trailhead's <em>score</em> is the number of <code>9</code>-height positions reachable from that trailhead via a hiking trail. In the above example, the single trailhead in the top left corner has a score of <code>1</code> because it can reach a single <code>9</code> (the one in the bottom left).</p> \n",
       "<p>This trailhead has a score of <code>2</code>:</p> \n",
       "<pre><code>...0...\n",
       "...1...\n",
       "...2...\n",
       "6543456\n",
       "7.....7\n",
       "8.....8\n",
       "9.....9\n",
       "</code></pre> \n",
       "<p>(The positions marked <code>.</code> are impassable tiles to simplify these examples; they do not appear on your actual topographic map.)</p> \n",
       "<p>This trailhead has a score of <code>4</code> because every <code>9</code> is reachable via a hiking trail except the one immediately to the left of the trailhead:</p> \n",
       "<pre><code>..90..9\n",
       "...1.98\n",
       "...2..7\n",
       "6543456\n",
       "765.987\n",
       "876....\n",
       "987....\n",
       "</code></pre> \n",
       "<p>This topographic map contains <em>two</em> trailheads; the trailhead at the top has a score of <code>1</code>, while the trailhead at the bottom has a score of <code>2</code>:</p> \n",
       "<pre><code>10..9..\n",
       "2...8..\n",
       "3...7..\n",
       "4567654\n",
       "...8..3\n",
       "...9..2\n",
       ".....01\n",
       "</code></pre> \n",
       "<p>Here's a larger example:</p> \n",
       "<pre><code>89010123\n",
       "78121874\n",
       "87430965\n",
       "96549874\n",
       "45678903\n",
       "32019012\n",
       "01329801\n",
       "10456732\n",
       "</code></pre> \n",
       "<p>This larger example has 9 trailheads. Considering the trailheads in reading order, they have scores of <code>5</code>, <code>6</code>, <code>5</code>, <code>3</code>, <code>1</code>, <code>3</code>, <code>5</code>, <code>3</code>, and <code>5</code>. Adding these scores together, the sum of the scores of all trailheads is <code><em>36</em></code>.</p> \n",
       "<p>The reindeer gleefully carries over a protractor and adds it to the pile. <em>What is the sum of the scores of all trailheads on your topographic map?</em></p>"
      ]
     },
     "execution_count": 44,
     "metadata": {},
     "output_type": "execute_result"
    }
   ],
   "execution_count": 44
  },
  {
   "metadata": {
    "ExecuteTime": {
     "end_time": "2024-12-10T23:24:43.392007702Z",
     "start_time": "2024-12-10T23:24:42.626740072Z"
    }
   },
   "cell_type": "code",
   "source": [
    "import aoc2024.Day10\n",
    "\n",
    "aoc.submitPartOne(Day10(aoc.input().lines()).resolverParte1())"
   ],
   "outputs": [
    {
     "data": {
      "text/html": [
       "<p>The answer is correct!</p><p>Your answer: 776</p><small>You already completed this part.</small>"
      ]
     },
     "execution_count": 45,
     "metadata": {},
     "output_type": "execute_result"
    }
   ],
   "execution_count": 45
  },
  {
   "metadata": {
    "ExecuteTime": {
     "end_time": "2024-12-10T23:24:43.498487404Z",
     "start_time": "2024-12-10T23:24:43.403701694Z"
    }
   },
   "cell_type": "code",
   "source": "aoc.viewPartTwo()",
   "outputs": [
    {
     "data": {
      "text/html": [
       "<h2 id=\"part2\">--- Part Two ---</h2>\n",
       "<p>The reindeer spends a few minutes reviewing your hiking trail map before realizing something, disappearing for a few minutes, and finally returning with yet another slightly-charred piece of paper.</p> \n",
       "<p>The paper describes a second way to measure a trailhead called its <em>rating</em>. A trailhead's rating is the <em>number of distinct hiking trails</em> which begin at that trailhead. For example:</p> \n",
       "<pre><code>.....0.\n",
       "..4321.\n",
       "..5..2.\n",
       "..6543.\n",
       "..7..4.\n",
       "..8765.\n",
       "..9....\n",
       "</code></pre> \n",
       "<p>The above map has a single trailhead; its rating is <code>3</code> because there are exactly three distinct hiking trails which begin at that position:</p> \n",
       "<pre><code>.....0.   .....0.   .....0.\n",
       "..4321.   .....1.   .....1.\n",
       "..5....   .....2.   .....2.\n",
       "..6....   ..6543.   .....3.\n",
       "..7....   ..7....   .....4.\n",
       "..8....   ..8....   ..8765.\n",
       "..9....   ..9....   ..9....\n",
       "</code></pre> \n",
       "<p>Here is a map containing a single trailhead with rating <code>13</code>:</p> \n",
       "<pre><code>..90..9\n",
       "...1.98\n",
       "...2..7\n",
       "6543456\n",
       "765.987\n",
       "876....\n",
       "987....\n",
       "</code></pre> \n",
       "<p>This map contains a single trailhead with rating <code>227</code> (because there are <code>121</code> distinct hiking trails that lead to the <code>9</code> on the right edge and <code>106</code> that lead to the <code>9</code> on the bottom edge):</p> \n",
       "<pre><code>012345\n",
       "123456\n",
       "234567\n",
       "345678\n",
       "4.6789\n",
       "56789.\n",
       "</code></pre> \n",
       "<p>Here's the larger example from before:</p> \n",
       "<pre><code>89010123\n",
       "78121874\n",
       "87430965\n",
       "96549874\n",
       "45678903\n",
       "32019012\n",
       "01329801\n",
       "10456732\n",
       "</code></pre> \n",
       "<p>Considering its trailheads in reading order, they have ratings of <code>20</code>, <code>24</code>, <code>10</code>, <code>4</code>, <code>1</code>, <code>4</code>, <code>5</code>, <code>8</code>, and <code>5</code>. The sum of all trailhead ratings in this larger example topographic map is <code><em>81</em></code>.</p> \n",
       "<p>You're not sure how, but the reindeer seems to have crafted some tiny flags out of toothpicks and bits of paper and is using them to mark trailheads on your topographic map. <em>What is the sum of the ratings of all trailheads?</em></p>"
      ]
     },
     "execution_count": 46,
     "metadata": {},
     "output_type": "execute_result"
    }
   ],
   "execution_count": 46
  },
  {
   "metadata": {
    "ExecuteTime": {
     "end_time": "2024-12-10T23:24:44.253496459Z",
     "start_time": "2024-12-10T23:24:43.509342760Z"
    }
   },
   "cell_type": "code",
   "source": "aoc.submitPartTwo(Day10(aoc.input().lines()).resolverParte2())",
   "outputs": [
    {
     "data": {
      "text/html": [
       "<p>The answer is correct!</p><p>Your answer: 1657</p><small>You already completed this part.</small>"
      ]
     },
     "execution_count": 47,
     "metadata": {},
     "output_type": "execute_result"
    }
   ],
   "execution_count": 47
  }
 ],
 "metadata": {
  "kernelspec": {
   "display_name": "Kotlin",
   "language": "kotlin",
   "name": "kotlin"
  },
  "language_info": {
   "name": "kotlin",
   "version": "1.9.23",
   "mimetype": "text/x-kotlin",
   "file_extension": ".kt",
   "pygments_lexer": "kotlin",
   "codemirror_mode": "text/x-kotlin",
   "nbconvert_exporter": ""
  },
  "ktnbPluginMetadata": {
   "projectDependencies": [
    "Advent-Code-Kotlin.main"
   ],
   "projectLibraries": false
  }
 },
 "nbformat": 4,
 "nbformat_minor": 0
}
